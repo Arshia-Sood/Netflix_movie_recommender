{
 "cells": [
  {
   "cell_type": "code",
   "execution_count": 1,
   "id": "2cafbb3c-cfad-40c6-8e51-3ea216516403",
   "metadata": {},
   "outputs": [],
   "source": [
    "import numpy as np\n",
    "import pandas as pd\n",
    "import warnings"
   ]
  },
  {
   "cell_type": "code",
   "execution_count": 2,
   "id": "433414bf-cac5-4245-9156-3b37beb76471",
   "metadata": {},
   "outputs": [],
   "source": [
    "#Ignoring warnings for clearer output\n",
    "warnings.filterwarnings(\"ignore\")"
   ]
  },
  {
   "cell_type": "code",
   "execution_count": 3,
   "id": "d0d278ca-c9ca-4944-9a86-c29a86316631",
   "metadata": {},
   "outputs": [],
   "source": [
    "#loading the dataset\n",
    "data=pd.read_csv(r\"netflix_titles.csv\")"
   ]
  },
  {
   "cell_type": "code",
   "execution_count": 4,
   "id": "09fe6740-2ff5-4acc-b4a6-2679ed558774",
   "metadata": {},
   "outputs": [
    {
     "data": {
      "text/html": [
       "<div>\n",
       "<style scoped>\n",
       "    .dataframe tbody tr th:only-of-type {\n",
       "        vertical-align: middle;\n",
       "    }\n",
       "\n",
       "    .dataframe tbody tr th {\n",
       "        vertical-align: top;\n",
       "    }\n",
       "\n",
       "    .dataframe thead th {\n",
       "        text-align: right;\n",
       "    }\n",
       "</style>\n",
       "<table border=\"1\" class=\"dataframe\">\n",
       "  <thead>\n",
       "    <tr style=\"text-align: right;\">\n",
       "      <th></th>\n",
       "      <th>show_id</th>\n",
       "      <th>type</th>\n",
       "      <th>title</th>\n",
       "      <th>director</th>\n",
       "      <th>cast</th>\n",
       "      <th>country</th>\n",
       "      <th>date_added</th>\n",
       "      <th>release_year</th>\n",
       "      <th>rating</th>\n",
       "      <th>duration</th>\n",
       "      <th>listed_in</th>\n",
       "      <th>description</th>\n",
       "    </tr>\n",
       "  </thead>\n",
       "  <tbody>\n",
       "    <tr>\n",
       "      <th>0</th>\n",
       "      <td>s1</td>\n",
       "      <td>Movie</td>\n",
       "      <td>Dick Johnson Is Dead</td>\n",
       "      <td>Kirsten Johnson</td>\n",
       "      <td>NaN</td>\n",
       "      <td>United States</td>\n",
       "      <td>September 25, 2021</td>\n",
       "      <td>2020</td>\n",
       "      <td>PG-13</td>\n",
       "      <td>90 min</td>\n",
       "      <td>Documentaries</td>\n",
       "      <td>As her father nears the end of his life, filmm...</td>\n",
       "    </tr>\n",
       "    <tr>\n",
       "      <th>1</th>\n",
       "      <td>s2</td>\n",
       "      <td>TV Show</td>\n",
       "      <td>Blood &amp; Water</td>\n",
       "      <td>NaN</td>\n",
       "      <td>Ama Qamata, Khosi Ngema, Gail Mabalane, Thaban...</td>\n",
       "      <td>South Africa</td>\n",
       "      <td>September 24, 2021</td>\n",
       "      <td>2021</td>\n",
       "      <td>TV-MA</td>\n",
       "      <td>2 Seasons</td>\n",
       "      <td>International TV Shows, TV Dramas, TV Mysteries</td>\n",
       "      <td>After crossing paths at a party, a Cape Town t...</td>\n",
       "    </tr>\n",
       "    <tr>\n",
       "      <th>2</th>\n",
       "      <td>s3</td>\n",
       "      <td>TV Show</td>\n",
       "      <td>Ganglands</td>\n",
       "      <td>Julien Leclercq</td>\n",
       "      <td>Sami Bouajila, Tracy Gotoas, Samuel Jouy, Nabi...</td>\n",
       "      <td>NaN</td>\n",
       "      <td>September 24, 2021</td>\n",
       "      <td>2021</td>\n",
       "      <td>TV-MA</td>\n",
       "      <td>1 Season</td>\n",
       "      <td>Crime TV Shows, International TV Shows, TV Act...</td>\n",
       "      <td>To protect his family from a powerful drug lor...</td>\n",
       "    </tr>\n",
       "    <tr>\n",
       "      <th>3</th>\n",
       "      <td>s4</td>\n",
       "      <td>TV Show</td>\n",
       "      <td>Jailbirds New Orleans</td>\n",
       "      <td>NaN</td>\n",
       "      <td>NaN</td>\n",
       "      <td>NaN</td>\n",
       "      <td>September 24, 2021</td>\n",
       "      <td>2021</td>\n",
       "      <td>TV-MA</td>\n",
       "      <td>1 Season</td>\n",
       "      <td>Docuseries, Reality TV</td>\n",
       "      <td>Feuds, flirtations and toilet talk go down amo...</td>\n",
       "    </tr>\n",
       "    <tr>\n",
       "      <th>4</th>\n",
       "      <td>s5</td>\n",
       "      <td>TV Show</td>\n",
       "      <td>Kota Factory</td>\n",
       "      <td>NaN</td>\n",
       "      <td>Mayur More, Jitendra Kumar, Ranjan Raj, Alam K...</td>\n",
       "      <td>India</td>\n",
       "      <td>September 24, 2021</td>\n",
       "      <td>2021</td>\n",
       "      <td>TV-MA</td>\n",
       "      <td>2 Seasons</td>\n",
       "      <td>International TV Shows, Romantic TV Shows, TV ...</td>\n",
       "      <td>In a city of coaching centers known to train I...</td>\n",
       "    </tr>\n",
       "  </tbody>\n",
       "</table>\n",
       "</div>"
      ],
      "text/plain": [
       "  show_id     type                  title         director  \\\n",
       "0      s1    Movie   Dick Johnson Is Dead  Kirsten Johnson   \n",
       "1      s2  TV Show          Blood & Water              NaN   \n",
       "2      s3  TV Show              Ganglands  Julien Leclercq   \n",
       "3      s4  TV Show  Jailbirds New Orleans              NaN   \n",
       "4      s5  TV Show           Kota Factory              NaN   \n",
       "\n",
       "                                                cast        country  \\\n",
       "0                                                NaN  United States   \n",
       "1  Ama Qamata, Khosi Ngema, Gail Mabalane, Thaban...   South Africa   \n",
       "2  Sami Bouajila, Tracy Gotoas, Samuel Jouy, Nabi...            NaN   \n",
       "3                                                NaN            NaN   \n",
       "4  Mayur More, Jitendra Kumar, Ranjan Raj, Alam K...          India   \n",
       "\n",
       "           date_added  release_year rating   duration  \\\n",
       "0  September 25, 2021          2020  PG-13     90 min   \n",
       "1  September 24, 2021          2021  TV-MA  2 Seasons   \n",
       "2  September 24, 2021          2021  TV-MA   1 Season   \n",
       "3  September 24, 2021          2021  TV-MA   1 Season   \n",
       "4  September 24, 2021          2021  TV-MA  2 Seasons   \n",
       "\n",
       "                                           listed_in  \\\n",
       "0                                      Documentaries   \n",
       "1    International TV Shows, TV Dramas, TV Mysteries   \n",
       "2  Crime TV Shows, International TV Shows, TV Act...   \n",
       "3                             Docuseries, Reality TV   \n",
       "4  International TV Shows, Romantic TV Shows, TV ...   \n",
       "\n",
       "                                         description  \n",
       "0  As her father nears the end of his life, filmm...  \n",
       "1  After crossing paths at a party, a Cape Town t...  \n",
       "2  To protect his family from a powerful drug lor...  \n",
       "3  Feuds, flirtations and toilet talk go down amo...  \n",
       "4  In a city of coaching centers known to train I...  "
      ]
     },
     "execution_count": 4,
     "metadata": {},
     "output_type": "execute_result"
    }
   ],
   "source": [
    "#displaying the first 5 rows of the dataset\n",
    "data.head()"
   ]
  },
  {
   "cell_type": "code",
   "execution_count": 5,
   "id": "dca3f66d-73cd-44dd-942e-148e5748627e",
   "metadata": {},
   "outputs": [
    {
     "data": {
      "text/plain": [
       "(8807, 12)"
      ]
     },
     "execution_count": 5,
     "metadata": {},
     "output_type": "execute_result"
    }
   ],
   "source": [
    "data.shape"
   ]
  },
  {
   "cell_type": "code",
   "execution_count": 6,
   "id": "2650e8ab-fac3-4481-9051-fa249993d4a4",
   "metadata": {},
   "outputs": [
    {
     "data": {
      "text/plain": [
       "Index(['show_id', 'type', 'title', 'director', 'cast', 'country', 'date_added',\n",
       "       'release_year', 'rating', 'duration', 'listed_in', 'description'],\n",
       "      dtype='object')"
      ]
     },
     "execution_count": 6,
     "metadata": {},
     "output_type": "execute_result"
    }
   ],
   "source": [
    "data.columns"
   ]
  },
  {
   "cell_type": "markdown",
   "id": "65ff48a0-8d96-493d-817a-ee0807ce7643",
   "metadata": {},
   "source": [
    "Keeping only the relevant columns needed for the recommendation system"
   ]
  },
  {
   "cell_type": "code",
   "execution_count": 7,
   "id": "d0c9a5ac-f79e-4e62-bca3-9f6104dd9998",
   "metadata": {},
   "outputs": [],
   "source": [
    "data=data[[\"title\",\"director\",\"cast\",\"listed_in\",\"description\"]]"
   ]
  },
  {
   "cell_type": "markdown",
   "id": "1c3f8832-56bd-4a50-9d00-c33e91ef136e",
   "metadata": {},
   "source": [
    "Checking for the null values"
   ]
  },
  {
   "cell_type": "code",
   "execution_count": 8,
   "id": "bfb2dc0e-e369-4244-9b64-8b8d5b4e55a0",
   "metadata": {},
   "outputs": [
    {
     "data": {
      "text/plain": [
       "title             0\n",
       "director       2634\n",
       "cast            825\n",
       "listed_in         0\n",
       "description       0\n",
       "dtype: int64"
      ]
     },
     "execution_count": 8,
     "metadata": {},
     "output_type": "execute_result"
    }
   ],
   "source": [
    "data.isnull().sum()"
   ]
  },
  {
   "cell_type": "markdown",
   "id": "f4d8a744-767a-4084-a7bc-48bbc7873a12",
   "metadata": {},
   "source": [
    "Filling the missing values with empty strings "
   ]
  },
  {
   "cell_type": "code",
   "execution_count": 9,
   "id": "dbfd6436-befe-49e2-9d9c-90c015a8e12b",
   "metadata": {},
   "outputs": [],
   "source": [
    "data.fillna(\"\",inplace=True)"
   ]
  },
  {
   "cell_type": "code",
   "execution_count": 10,
   "id": "bf83f4b7-34c8-472e-954c-c9514aef3693",
   "metadata": {},
   "outputs": [
    {
     "data": {
      "text/plain": [
       "title          0\n",
       "director       0\n",
       "cast           0\n",
       "listed_in      0\n",
       "description    0\n",
       "dtype: int64"
      ]
     },
     "execution_count": 10,
     "metadata": {},
     "output_type": "execute_result"
    }
   ],
   "source": [
    "data.isnull().sum()"
   ]
  },
  {
   "cell_type": "markdown",
   "id": "23d15b1c-4719-4966-82a2-be5f91e98d93",
   "metadata": {},
   "source": [
    "Creating a new column \"tags\" that combins important text features.\n",
    "This \"tag\" column combines director, cast, listed_in and description columns"
   ]
  },
  {
   "cell_type": "code",
   "execution_count": 11,
   "id": "7530a585-fe55-4af2-958d-ced0bece3123",
   "metadata": {},
   "outputs": [],
   "source": [
    "data[\"tags\"]=data[\"director\"]+\" \"+data[\"cast\"]+\" \"+data[\"listed_in\"]+\" \"+data[\"description\"]"
   ]
  },
  {
   "cell_type": "code",
   "execution_count": 12,
   "id": "5d6b7d2b-2823-4d24-8734-c29d29563a68",
   "metadata": {},
   "outputs": [
    {
     "data": {
      "text/plain": [
       "0    Kirsten Johnson  Documentaries As her father n...\n",
       "1     Ama Qamata, Khosi Ngema, Gail Mabalane, Thaba...\n",
       "2    Julien Leclercq Sami Bouajila, Tracy Gotoas, S...\n",
       "3      Docuseries, Reality TV Feuds, flirtations an...\n",
       "4     Mayur More, Jitendra Kumar, Ranjan Raj, Alam ...\n",
       "Name: tags, dtype: object"
      ]
     },
     "execution_count": 12,
     "metadata": {},
     "output_type": "execute_result"
    }
   ],
   "source": [
    "data[\"tags\"].head()"
   ]
  },
  {
   "cell_type": "markdown",
   "id": "686bee17-055f-4ebb-ac03-2cff78386616",
   "metadata": {},
   "source": [
    "We'll use only the 'title' and 'tags' columns for building the content-based recommender"
   ]
  },
  {
   "cell_type": "code",
   "execution_count": 13,
   "id": "5523bfb7-4491-45b3-bc00-c824d3418285",
   "metadata": {},
   "outputs": [],
   "source": [
    "essential_columns=[\"title\",\"tags\"]"
   ]
  },
  {
   "cell_type": "code",
   "execution_count": 14,
   "id": "24488ef9-c562-44de-81f7-a8b867956478",
   "metadata": {},
   "outputs": [],
   "source": [
    "movies=data[essential_columns]"
   ]
  },
  {
   "cell_type": "code",
   "execution_count": 15,
   "id": "45c26ae9-a6a7-4079-a1a5-d37cf6559828",
   "metadata": {},
   "outputs": [
    {
     "data": {
      "text/html": [
       "<div>\n",
       "<style scoped>\n",
       "    .dataframe tbody tr th:only-of-type {\n",
       "        vertical-align: middle;\n",
       "    }\n",
       "\n",
       "    .dataframe tbody tr th {\n",
       "        vertical-align: top;\n",
       "    }\n",
       "\n",
       "    .dataframe thead th {\n",
       "        text-align: right;\n",
       "    }\n",
       "</style>\n",
       "<table border=\"1\" class=\"dataframe\">\n",
       "  <thead>\n",
       "    <tr style=\"text-align: right;\">\n",
       "      <th></th>\n",
       "      <th>title</th>\n",
       "      <th>tags</th>\n",
       "    </tr>\n",
       "  </thead>\n",
       "  <tbody>\n",
       "    <tr>\n",
       "      <th>0</th>\n",
       "      <td>Dick Johnson Is Dead</td>\n",
       "      <td>Kirsten Johnson  Documentaries As her father n...</td>\n",
       "    </tr>\n",
       "    <tr>\n",
       "      <th>1</th>\n",
       "      <td>Blood &amp; Water</td>\n",
       "      <td>Ama Qamata, Khosi Ngema, Gail Mabalane, Thaba...</td>\n",
       "    </tr>\n",
       "    <tr>\n",
       "      <th>2</th>\n",
       "      <td>Ganglands</td>\n",
       "      <td>Julien Leclercq Sami Bouajila, Tracy Gotoas, S...</td>\n",
       "    </tr>\n",
       "    <tr>\n",
       "      <th>3</th>\n",
       "      <td>Jailbirds New Orleans</td>\n",
       "      <td>Docuseries, Reality TV Feuds, flirtations an...</td>\n",
       "    </tr>\n",
       "    <tr>\n",
       "      <th>4</th>\n",
       "      <td>Kota Factory</td>\n",
       "      <td>Mayur More, Jitendra Kumar, Ranjan Raj, Alam ...</td>\n",
       "    </tr>\n",
       "  </tbody>\n",
       "</table>\n",
       "</div>"
      ],
      "text/plain": [
       "                   title                                               tags\n",
       "0   Dick Johnson Is Dead  Kirsten Johnson  Documentaries As her father n...\n",
       "1          Blood & Water   Ama Qamata, Khosi Ngema, Gail Mabalane, Thaba...\n",
       "2              Ganglands  Julien Leclercq Sami Bouajila, Tracy Gotoas, S...\n",
       "3  Jailbirds New Orleans    Docuseries, Reality TV Feuds, flirtations an...\n",
       "4           Kota Factory   Mayur More, Jitendra Kumar, Ranjan Raj, Alam ..."
      ]
     },
     "execution_count": 15,
     "metadata": {},
     "output_type": "execute_result"
    }
   ],
   "source": [
    "movies.head()"
   ]
  },
  {
   "cell_type": "code",
   "execution_count": 16,
   "id": "f28aed23-65fe-4b48-b842-e5a8404a8c9f",
   "metadata": {},
   "outputs": [
    {
     "data": {
      "text/plain": [
       "Index(['title', 'tags'], dtype='object')"
      ]
     },
     "execution_count": 16,
     "metadata": {},
     "output_type": "execute_result"
    }
   ],
   "source": [
    "movies.columns"
   ]
  },
  {
   "cell_type": "code",
   "execution_count": 17,
   "id": "28247346-4533-42a1-9a28-5e25881d118d",
   "metadata": {},
   "outputs": [
    {
     "data": {
      "text/plain": [
       "title    0\n",
       "tags     0\n",
       "dtype: int64"
      ]
     },
     "execution_count": 17,
     "metadata": {},
     "output_type": "execute_result"
    }
   ],
   "source": [
    "movies.isnull().sum()"
   ]
  },
  {
   "cell_type": "markdown",
   "id": "32f1a671-9155-4bb0-b7aa-3d6ca1803284",
   "metadata": {},
   "source": [
    "TF-IDF Vectorizer is used for converting textual data to numberical features\n",
    "Here the \"tag\" column which consists of text will be converted into numerical values"
   ]
  },
  {
   "cell_type": "code",
   "execution_count": 18,
   "id": "97934116-cb01-4e0d-a4d1-543732184e5d",
   "metadata": {},
   "outputs": [],
   "source": [
    "from sklearn.feature_extraction.text import TfidfVectorizer"
   ]
  },
  {
   "cell_type": "markdown",
   "id": "82736813-8c26-46b1-bd87-922a3d538dab",
   "metadata": {},
   "source": [
    "This will remove English stopwords and gives more weight to important terms"
   ]
  },
  {
   "cell_type": "code",
   "execution_count": 19,
   "id": "c86cf10a-47e6-43e4-a686-6f484314874c",
   "metadata": {},
   "outputs": [],
   "source": [
    "tfidf=TfidfVectorizer(stop_words=\"english\")\n",
    "tfidf_matrix=tfidf.fit_transform(movies[\"tags\"])  # returns a sparse matrix"
   ]
  },
  {
   "cell_type": "code",
   "execution_count": 20,
   "id": "4c7672c3-f1ff-4264-b68a-d4bbe780ef84",
   "metadata": {},
   "outputs": [],
   "source": [
    "from sklearn.metrics.pairwise import cosine_similarity"
   ]
  },
  {
   "cell_type": "markdown",
   "id": "53cb86df-5bd6-406a-8679-65827f6065e1",
   "metadata": {},
   "source": [
    "Computing the cosine similarity between all movie vectors"
   ]
  },
  {
   "cell_type": "code",
   "execution_count": 21,
   "id": "363d46f5-fa82-4a81-8407-e51a84e3f941",
   "metadata": {},
   "outputs": [],
   "source": [
    "similarity=cosine_similarity(tfidf_matrix)"
   ]
  },
  {
   "cell_type": "markdown",
   "id": "e558209a-ebca-4ca6-aafc-89c5557713ba",
   "metadata": {},
   "source": [
    " Define a recommendation function that takes a movie title as input and returns the top 5 most similar movies based on cosine similarity"
   ]
  },
  {
   "cell_type": "code",
   "execution_count": 22,
   "id": "61bb38cc-8be4-43a2-ab79-db8bfbadd8fd",
   "metadata": {},
   "outputs": [],
   "source": [
    "def recommend(movie):\n",
    "    # Get index of the movie from the DataFrame\n",
    "    movie_index=movies[movies[\"title\"]==movie].index[0]\n",
    "    # Get similarity scores for that movie with all other\n",
    "    distances=similarity[movie_index]\n",
    "    # Sort movies based on similarity score in descending order\n",
    "    movies_list=sorted(list(enumerate(distances)),reverse=True,key=lambda x:x[1])[1:6]\n",
    "    # Print the top 5 recommended movie titles\n",
    "    for i in movies_list:\n",
    "        print(movies.iloc[i[0]].title)"
   ]
  },
  {
   "cell_type": "markdown",
   "id": "bad75ec4-1f21-487f-9762-e31620357df1",
   "metadata": {},
   "source": [
    "Testing the function"
   ]
  },
  {
   "cell_type": "code",
   "execution_count": 23,
   "id": "b6e16588-5e7a-4afa-b40d-6f234432b41d",
   "metadata": {},
   "outputs": [
    {
     "name": "stdout",
     "output_type": "stream",
     "text": [
      "Yeh Meri Family\n",
      "Girls Hostel\n",
      "Chaman Bahaar\n",
      "Betaal\n",
      "The Creative Indians\n"
     ]
    }
   ],
   "source": [
    "recommend(\"Kota Factory\")"
   ]
  },
  {
   "cell_type": "markdown",
   "id": "6239a489-b48c-4416-81bc-a0e0d718ab20",
   "metadata": {},
   "source": [
    "Importing pickle to save the necessary data"
   ]
  },
  {
   "cell_type": "code",
   "execution_count": 24,
   "id": "e0098ae2-3b13-4ef4-a860-04602de51baa",
   "metadata": {},
   "outputs": [],
   "source": [
    "import pickle"
   ]
  },
  {
   "cell_type": "code",
   "execution_count": 25,
   "id": "b3d5ea21-3d21-4e91-80c7-a873e4314994",
   "metadata": {},
   "outputs": [],
   "source": [
    "filename=\"movie_recommendation_system.pkl\"\n",
    "pickle.dump(movies,open(\"movies.pkl\",\"wb\"))  #Saves the 'movies' DataFrame\n",
    "pickle.dump(similarity,open(\"similarity.pkl\",\"wb\"))  #Saves the similarity matrix"
   ]
  },
  {
   "cell_type": "code",
   "execution_count": 26,
   "id": "6a4b3b47-450d-46df-805e-79d0ab6fc626",
   "metadata": {},
   "outputs": [],
   "source": [
    "movies = pickle.load(open(\"movies.pkl\",\"rb\"))\n",
    "similarity = pickle.load(open(\"similarity.pkl\",\"rb\"))"
   ]
  }
 ],
 "metadata": {
  "kernelspec": {
   "display_name": "Python 3 (ipykernel)",
   "language": "python",
   "name": "python3"
  },
  "language_info": {
   "codemirror_mode": {
    "name": "ipython",
    "version": 3
   },
   "file_extension": ".py",
   "mimetype": "text/x-python",
   "name": "python",
   "nbconvert_exporter": "python",
   "pygments_lexer": "ipython3",
   "version": "3.12.3"
  }
 },
 "nbformat": 4,
 "nbformat_minor": 5
}
